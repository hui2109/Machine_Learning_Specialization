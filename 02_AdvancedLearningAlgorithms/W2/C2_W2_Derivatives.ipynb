{
 "cells": [
  {
   "cell_type": "markdown",
   "id": "47a71010",
   "metadata": {
    "tags": []
   },
   "source": [
    "# Optional Lab - Derivatives\n",
    "This lab will give you a more intuitive understanding of derivatives. It will show you a simple way of calculating derivatives arithmetically. It will also introduce you to a handy Python library that allows you to calculate derivatives symbolically."
   ]
  },
  {
   "cell_type": "code",
   "execution_count": 1,
   "id": "9ad531d5",
   "metadata": {},
   "outputs": [],
   "source": [
    "from sympy import symbols, diff"
   ]
  },
  {
   "cell_type": "markdown",
   "id": "7e434045",
   "metadata": {},
   "source": [
    "## Informal definition of derivatives"
   ]
  },
  {
   "cell_type": "markdown",
   "id": "898bf323",
   "metadata": {},
   "source": [
    "The formal definition of derivatives can be a bit daunting with limits and values 'going to zero'. The idea is really much simpler. \n",
    "\n",
    "The derivative of a function describes how the output of a function changes when there is a small change in an input variable.\n",
    "\n",
    "Let's use the cost function $J(w)$ as an example. The cost $J$ is the output and $w$ is the input variable.  \n",
    "Let's give a 'small change' a name *epsilon* or $\\epsilon$. We use these Greek letters because it is traditional in mathematics to use *epsilon*($\\epsilon$) or *delta* ($\\Delta$) to represent a small value. You can think of it as representing 0.001 or some other small value.  \n",
    "\n",
    "$$\n",
    "\\begin{equation}\n",
    "\\text{if } w \\uparrow \\epsilon \\text{ causes }J(w) \\uparrow \\text{by }k \\times \\epsilon \\text{ then}  \\\\\n",
    "\\frac{\\partial J(w)}{\\partial w} = k \\tag{1}\n",
    "\\end{equation}\n",
    "$$\n",
    "\n",
    "This just says if you change the input to the function $J(w)$ by a little bit and the output changes by $k$ times that little bit, then the derivative of $J(w)$ is equal to $k$.\n",
    "\n",
    "Let's try this out.  Let's look at the derivative of the function $J(w) = w^2$ at the point $w=3$ and $\\epsilon = 0.001$"
   ]
  },
  {
   "cell_type": "code",
   "execution_count": 2,
   "id": "b0009270",
   "metadata": {},
   "outputs": [
    {
     "name": "stdout",
     "output_type": "stream",
     "text": [
      "J = 9, J_epsilon = 9.006001, dJ_dw ~= k = 6.001000 \n"
     ]
    }
   ],
   "source": [
    "J = (3)**2\n",
    "J_epsilon = (3 + 0.001)**2\n",
    "k = (J_epsilon - J)/0.001    # difference divided by epsilon\n",
    "print(f\"J = {J}, J_epsilon = {J_epsilon}, dJ_dw ~= k = {k:0.6f} \")"
   ]
  },
  {
   "cell_type": "markdown",
   "id": "93f34123",
   "metadata": {},
   "source": [
    "We have increased the input value a little bit (0.001), causing the output to change from 9 to 9.006001, an increase of 6 times the input increase. Referencing (1) above, this says that $k=6$, so $\\frac{\\partial J(w)}{\\partial w} \\approx 6$. If you are familiar with calculus, you know, written symbolically,  $\\frac{\\partial J(w)}{\\partial w} = 2 w$. With $w=3$ this is 6. Our calculation above is not exactly 6 because to be exactly correct $\\epsilon$ would need to be [infinitesimally small](https://www.dictionary.com/browse/infinitesimally) or really, really small. That is why we use the symbols $\\approx$ or ~= rather than =. Let's see what happens if we make $\\epsilon$ smaller."
   ]
  },
  {
   "cell_type": "code",
   "execution_count": 3,
   "id": "783f046f",
   "metadata": {},
   "outputs": [
    {
     "name": "stdout",
     "output_type": "stream",
     "text": [
      "J = 9, J_epsilon = 9.000000006, dJ_dw ~= k = 6.000000496442226 \n"
     ]
    }
   ],
   "source": [
    "J = (3)**2\n",
    "J_epsilon = (3 + 0.000000001)**2\n",
    "k = (J_epsilon - J)/0.000000001\n",
    "print(f\"J = {J}, J_epsilon = {J_epsilon}, dJ_dw ~= k = {k} \")"
   ]
  },
  {
   "cell_type": "markdown",
   "id": "1236b8d0",
   "metadata": {},
   "source": [
    "The value gets close to exactly 6 as we reduce the size of $\\epsilon$. Feel free to try reducing the value further."
   ]
  },
  {
   "cell_type": "markdown",
   "id": "4a05844a",
   "metadata": {},
   "source": [
    "## Finding symbolic derivatives\n",
    "In backprop it is useful to know the derivative of simple functions at any input value. Put another way, we would like to know the 'symbolic' derivative rather than the 'arithmetic' derivative. An example of a symbolic derivative is,  $\\frac{\\partial J(w)}{\\partial w} = 2 w$, the derivative of $J(w) = w^2$ above.  With the symbolic derivative you can find the value of the derivative at any input value $w$.  \n",
    "\n",
    "If you have taken a calculus course, you are familiar with the many [differentiation rules](https://en.wikipedia.org/wiki/Differentiation_rules#Power_laws,_polynomials,_quotients,_and_reciprocals) that mathematicians have developed to solve for a derivative given an expression. Well, it turns out this process has been automated with symbolic differentiation programs. An example of this in python is the [SymPy](https://www.sympy.org/en/index.html) library. Let's take a look at how to use this."
   ]
  },
  {
   "cell_type": "markdown",
   "id": "4a94f9e6",
   "metadata": {},
   "source": [
    "### $J = w^2$\n",
    "Define the python variables and their symbolic names."
   ]
  },
  {
   "cell_type": "code",
   "execution_count": 4,
   "id": "3bcc6036",
   "metadata": {},
   "outputs": [],
   "source": [
    "J, w = symbols('J, w')"
   ]
  },
  {
   "cell_type": "markdown",
   "id": "d410c363",
   "metadata": {},
   "source": [
    "Define and print the expression. Note SymPy produces a [latex](https://en.wikibooks.org/wiki/LaTeX/Mathematics) string which generates a nicely readable equation."
   ]
  },
  {
   "cell_type": "code",
   "execution_count": 5,
   "id": "f843f8aa",
   "metadata": {},
   "outputs": [
    {
     "data": {
      "text/latex": [
       "$\\displaystyle w^{2}$"
      ],
      "text/plain": [
       "w**2"
      ]
     },
     "execution_count": 5,
     "metadata": {},
     "output_type": "execute_result"
    }
   ],
   "source": [
    "J=w**2\n",
    "J"
   ]
  },
  {
   "cell_type": "markdown",
   "id": "0cf31cf0",
   "metadata": {},
   "source": [
    "Use SymPy's `diff` to differentiate the expression for $J$ with respect to $w$. Note the result matches our earlier example."
   ]
  },
  {
   "cell_type": "code",
   "execution_count": 6,
   "id": "a9a6e729",
   "metadata": {},
   "outputs": [
    {
     "data": {
      "text/latex": [
       "$\\displaystyle 2 w$"
      ],
      "text/plain": [
       "2*w"
      ]
     },
     "execution_count": 6,
     "metadata": {},
     "output_type": "execute_result"
    }
   ],
   "source": [
    "dJ_dw = diff(J,w)\n",
    "dJ_dw"
   ]
  },
  {
   "cell_type": "markdown",
   "id": "cf4e13e4",
   "metadata": {},
   "source": [
    "Evaluate the derivative at a few points by 'substituting' numeric values for the symbolic values. In the first example, $w$ is replaced by $2$."
   ]
  },
  {
   "cell_type": "code",
   "execution_count": 7,
   "id": "f8616098",
   "metadata": {},
   "outputs": [
    {
     "data": {
      "text/latex": [
       "$\\displaystyle 4$"
      ],
      "text/plain": [
       "4"
      ]
     },
     "execution_count": 7,
     "metadata": {},
     "output_type": "execute_result"
    }
   ],
   "source": [
    "dJ_dw.subs([(w,2)])    # derivative at the point w = 2"
   ]
  },
  {
   "cell_type": "code",
   "execution_count": 8,
   "id": "22ddb121",
   "metadata": {
    "scrolled": true
   },
   "outputs": [
    {
     "data": {
      "text/latex": [
       "$\\displaystyle 6$"
      ],
      "text/plain": [
       "6"
      ]
     },
     "execution_count": 8,
     "metadata": {},
     "output_type": "execute_result"
    }
   ],
   "source": [
    "dJ_dw.subs([(w,3)])    # derivative at the point w = 3"
   ]
  },
  {
   "cell_type": "code",
   "execution_count": 9,
   "id": "796e04fe",
   "metadata": {},
   "outputs": [
    {
     "data": {
      "text/latex": [
       "$\\displaystyle -6$"
      ],
      "text/plain": [
       "-6"
      ]
     },
     "execution_count": 9,
     "metadata": {},
     "output_type": "execute_result"
    }
   ],
   "source": [
    "dJ_dw.subs([(w,-3)])    # derivative at the point w = -3"
   ]
  },
  {
   "cell_type": "markdown",
   "id": "8ce569c7",
   "metadata": {},
   "source": [
    "## $J = 2w$"
   ]
  },
  {
   "cell_type": "code",
   "execution_count": 10,
   "id": "8179db9b",
   "metadata": {
    "tags": []
   },
   "outputs": [],
   "source": [
    "w, J = symbols('w, J')"
   ]
  },
  {
   "cell_type": "code",
   "execution_count": 11,
   "id": "d74c81f6",
   "metadata": {},
   "outputs": [
    {
     "data": {
      "text/latex": [
       "$\\displaystyle 2 w$"
      ],
      "text/plain": [
       "2*w"
      ]
     },
     "execution_count": 11,
     "metadata": {},
     "output_type": "execute_result"
    }
   ],
   "source": [
    "J = 2 * w\n",
    "J"
   ]
  },
  {
   "cell_type": "code",
   "execution_count": 12,
   "id": "f174981b",
   "metadata": {
    "tags": []
   },
   "outputs": [
    {
     "data": {
      "text/latex": [
       "$\\displaystyle 2$"
      ],
      "text/plain": [
       "2"
      ]
     },
     "execution_count": 12,
     "metadata": {},
     "output_type": "execute_result"
    }
   ],
   "source": [
    "dJ_dw = diff(J,w)\n",
    "dJ_dw"
   ]
  },
  {
   "cell_type": "code",
   "execution_count": 13,
   "id": "4f3bf305",
   "metadata": {},
   "outputs": [
    {
     "data": {
      "text/latex": [
       "$\\displaystyle 2$"
      ],
      "text/plain": [
       "2"
      ]
     },
     "execution_count": 13,
     "metadata": {},
     "output_type": "execute_result"
    }
   ],
   "source": [
    "dJ_dw.subs([(w,-3)])    # derivative at the point w = -3"
   ]
  },
  {
   "cell_type": "markdown",
   "id": "47a1eb82",
   "metadata": {},
   "source": [
    "Compare this with the arithmetic calculation"
   ]
  },
  {
   "cell_type": "code",
   "execution_count": 14,
   "id": "c64080e2",
   "metadata": {},
   "outputs": [
    {
     "name": "stdout",
     "output_type": "stream",
     "text": [
      "J = 6, J_epsilon = 6.002, dJ_dw ~= k = 1.9999999999997797 \n"
     ]
    }
   ],
   "source": [
    "J = 2*3\n",
    "J_epsilon = 2*(3 + 0.001)\n",
    "k = (J_epsilon - J)/0.001\n",
    "print(f\"J = {J}, J_epsilon = {J_epsilon}, dJ_dw ~= k = {k} \")"
   ]
  },
  {
   "cell_type": "markdown",
   "id": "c6be60fb",
   "metadata": {},
   "source": [
    "For the function $J=2w$, it is easy to see that any change in $w$ will result in 2 times that amount of change in the output $J$, regardless of the starting value of $w$. Our NumPy and arithmetic results confirm this. "
   ]
  },
  {
   "cell_type": "markdown",
   "id": "9ebd0be5",
   "metadata": {},
   "source": [
    "## $J = w^3$"
   ]
  },
  {
   "cell_type": "code",
   "execution_count": 15,
   "id": "3e7ec131",
   "metadata": {},
   "outputs": [],
   "source": [
    "J, w = symbols('J, w')"
   ]
  },
  {
   "cell_type": "code",
   "execution_count": 16,
   "id": "b4a1d62a",
   "metadata": {},
   "outputs": [
    {
     "data": {
      "text/latex": [
       "$\\displaystyle w^{3}$"
      ],
      "text/plain": [
       "w**3"
      ]
     },
     "execution_count": 16,
     "metadata": {},
     "output_type": "execute_result"
    }
   ],
   "source": [
    "J=w**3\n",
    "J"
   ]
  },
  {
   "cell_type": "code",
   "execution_count": 17,
   "id": "84e4d391",
   "metadata": {},
   "outputs": [
    {
     "data": {
      "text/latex": [
       "$\\displaystyle 3 w^{2}$"
      ],
      "text/plain": [
       "3*w**2"
      ]
     },
     "execution_count": 17,
     "metadata": {},
     "output_type": "execute_result"
    }
   ],
   "source": [
    "dJ_dw = diff(J,w)\n",
    "dJ_dw"
   ]
  },
  {
   "cell_type": "code",
   "execution_count": 18,
   "id": "d699b23e",
   "metadata": {},
   "outputs": [
    {
     "data": {
      "text/latex": [
       "$\\displaystyle 12$"
      ],
      "text/plain": [
       "12"
      ]
     },
     "execution_count": 18,
     "metadata": {},
     "output_type": "execute_result"
    }
   ],
   "source": [
    "dJ_dw.subs([(w,2)])   # derivative at the point w=2"
   ]
  },
  {
   "cell_type": "markdown",
   "id": "608f3286",
   "metadata": {},
   "source": [
    "Compare this with the arithmetic calculation"
   ]
  },
  {
   "cell_type": "code",
   "execution_count": 19,
   "id": "43a79f57",
   "metadata": {},
   "outputs": [
    {
     "name": "stdout",
     "output_type": "stream",
     "text": [
      "J = 8, J_epsilon = 8.012006000999998, dJ_dw ~= k = 12.006000999997823 \n"
     ]
    }
   ],
   "source": [
    "J = (2)**3\n",
    "J_epsilon = (2+0.001)**3\n",
    "k = (J_epsilon - J)/0.001\n",
    "print(f\"J = {J}, J_epsilon = {J_epsilon}, dJ_dw ~= k = {k} \")"
   ]
  },
  {
   "cell_type": "markdown",
   "id": "d1d92387",
   "metadata": {},
   "source": [
    "## $J = \\frac{1}{w}$"
   ]
  },
  {
   "cell_type": "code",
   "execution_count": 20,
   "id": "0df496a9",
   "metadata": {},
   "outputs": [],
   "source": [
    "J, w = symbols('J, w')"
   ]
  },
  {
   "cell_type": "code",
   "execution_count": 21,
   "id": "1f51b364",
   "metadata": {},
   "outputs": [
    {
     "data": {
      "text/latex": [
       "$\\displaystyle \\frac{1}{w}$"
      ],
      "text/plain": [
       "1/w"
      ]
     },
     "execution_count": 21,
     "metadata": {},
     "output_type": "execute_result"
    }
   ],
   "source": [
    "J= 1/w\n",
    "J"
   ]
  },
  {
   "cell_type": "code",
   "execution_count": 22,
   "id": "94b02fa6",
   "metadata": {},
   "outputs": [
    {
     "data": {
      "text/latex": [
       "$\\displaystyle - \\frac{1}{w^{2}}$"
      ],
      "text/plain": [
       "-1/w**2"
      ]
     },
     "execution_count": 22,
     "metadata": {},
     "output_type": "execute_result"
    }
   ],
   "source": [
    "dJ_dw = diff(J,w)\n",
    "dJ_dw"
   ]
  },
  {
   "cell_type": "code",
   "execution_count": 23,
   "id": "0332df58",
   "metadata": {},
   "outputs": [
    {
     "data": {
      "text/latex": [
       "$\\displaystyle - \\frac{1}{4}$"
      ],
      "text/plain": [
       "-1/4"
      ]
     },
     "execution_count": 23,
     "metadata": {},
     "output_type": "execute_result"
    }
   ],
   "source": [
    "dJ_dw.subs([(w,2)])"
   ]
  },
  {
   "cell_type": "markdown",
   "id": "d373a5f8",
   "metadata": {},
   "source": [
    "Compare this with the arithmetic calculation"
   ]
  },
  {
   "cell_type": "code",
   "execution_count": 24,
   "id": "6f5a6e2a",
   "metadata": {},
   "outputs": [
    {
     "name": "stdout",
     "output_type": "stream",
     "text": [
      "J = 0.5, J_epsilon = 0.49975012493753124, dJ_dw ~= k = -0.2498750624687629 \n"
     ]
    }
   ],
   "source": [
    "J = 1/2\n",
    "J_epsilon = 1/(2+0.001)\n",
    "k = (J_epsilon - J)/0.001\n",
    "print(f\"J = {J}, J_epsilon = {J_epsilon}, dJ_dw ~= k = {k} \")"
   ]
  },
  {
   "cell_type": "markdown",
   "id": "47270f92",
   "metadata": {},
   "source": [
    "## $J = \\frac{1}{w^2}$"
   ]
  },
  {
   "cell_type": "code",
   "execution_count": 27,
   "id": "c99b75a2",
   "metadata": {},
   "outputs": [],
   "source": [
    "J, w = symbols('J, w')"
   ]
  },
  {
   "cell_type": "markdown",
   "id": "a9772096",
   "metadata": {},
   "source": [
    "If you have time, try to repeat the above steps on the function  $J = \\frac{1}{w^2}$ and evaluate at w=4"
   ]
  },
  {
   "cell_type": "code",
   "execution_count": 31,
   "id": "1fb647b6-8315-4cde-a66d-e7cb770bff16",
   "metadata": {},
   "outputs": [],
   "source": [
    "J = 1 / w**2"
   ]
  },
  {
   "cell_type": "code",
   "execution_count": 32,
   "id": "e071b4eb",
   "metadata": {},
   "outputs": [
    {
     "data": {
      "text/latex": [
       "$\\displaystyle - \\frac{2}{w^{3}}$"
      ],
      "text/plain": [
       "-2/w**3"
      ]
     },
     "execution_count": 32,
     "metadata": {},
     "output_type": "execute_result"
    }
   ],
   "source": [
    "dJ_dw = diff(J,w)\n",
    "dJ_dw"
   ]
  },
  {
   "cell_type": "code",
   "execution_count": 34,
   "id": "e251749f",
   "metadata": {},
   "outputs": [
    {
     "data": {
      "text/latex": [
       "$\\displaystyle - \\frac{1}{32}$"
      ],
      "text/plain": [
       "-1/32"
      ]
     },
     "execution_count": 34,
     "metadata": {},
     "output_type": "execute_result"
    }
   ],
   "source": [
    "dJ_dw.subs([(w,4)])"
   ]
  },
  {
   "cell_type": "markdown",
   "id": "e20119c0",
   "metadata": {},
   "source": [
    "Compare this with the arithmetic calculation"
   ]
  },
  {
   "cell_type": "code",
   "execution_count": 35,
   "id": "c3c083c6",
   "metadata": {},
   "outputs": [
    {
     "name": "stdout",
     "output_type": "stream",
     "text": [
      "J = 0.0625, J_epsilon = 0.06246876171484496, dJ_dw ~= k = -0.031238285155041345 \n"
     ]
    }
   ],
   "source": [
    "J = 1/4**2\n",
    "J_epsilon = 1/(4+0.001)**2\n",
    "k = (J_epsilon - J)/0.001\n",
    "print(f\"J = {J}, J_epsilon = {J_epsilon}, dJ_dw ~= k = {k} \")"
   ]
  },
  {
   "cell_type": "markdown",
   "id": "bee582b0",
   "metadata": {},
   "source": [
    "<details>\n",
    "  <summary><font size=\"3\" color=\"darkgreen\"><b>Click for hints</b></font></summary>\n",
    "    \n",
    "```python \n",
    "J= 1/w**2\n",
    "dJ_dw = diff(J,w)\n",
    "dJ_dw.subs([(w,4)])\n",
    "```\n",
    "  \n",
    "\n",
    "</details>\n",
    "\n",
    "    \n"
   ]
  },
  {
   "cell_type": "markdown",
   "id": "acfad452",
   "metadata": {},
   "source": [
    "## Congratulations!\n",
    "If you have run through the above examples, you understand a derivative describes the change in the output of a function that is a result of a small change in an input to that function. You also can use *SymPy* in python to find the symbolic derivative of functions."
   ]
  }
 ],
 "metadata": {
  "kernelspec": {
   "display_name": "Python 3 (ipykernel)",
   "language": "python",
   "name": "python3"
  },
  "language_info": {
   "codemirror_mode": {
    "name": "ipython",
    "version": 3
   },
   "file_extension": ".py",
   "mimetype": "text/x-python",
   "name": "python",
   "nbconvert_exporter": "python",
   "pygments_lexer": "ipython3",
   "version": "3.12.3"
  }
 },
 "nbformat": 4,
 "nbformat_minor": 5
}
