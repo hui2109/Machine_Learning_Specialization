{
 "cells": [
  {
   "cell_type": "code",
   "execution_count": 1,
   "id": "56e248964051ef78",
   "metadata": {
    "ExecuteTime": {
     "end_time": "2024-06-21T01:24:08.479455Z",
     "start_time": "2024-06-21T01:24:08.436430Z"
    }
   },
   "outputs": [],
   "source": [
    "from ipywidgets import interact, interactive, fixed, interact_manual\n",
    "import ipywidgets as widgets"
   ]
  },
  {
   "cell_type": "code",
   "execution_count": 6,
   "id": "4c1df45a16dedb1f",
   "metadata": {
    "ExecuteTime": {
     "end_time": "2024-06-21T01:28:25.011995Z",
     "start_time": "2024-06-21T01:28:25.002995Z"
    }
   },
   "outputs": [
    {
     "data": {
      "application/vnd.jupyter.widget-view+json": {
       "model_id": "5e8b18d2c0fd4b4cbedea4057d2a2280",
       "version_major": 2,
       "version_minor": 0
      },
      "text/plain": [
       "interactive(children=(Checkbox(value=True, description='x'), FloatSlider(value=1.0, description='y', max=3.0, …"
      ]
     },
     "metadata": {},
     "output_type": "display_data"
    }
   ],
   "source": [
    "@interact(x=True, y=1.0, continuous_update=False)\n",
    "def g(x, y):\n",
    "    return (x, y)"
   ]
  },
  {
   "cell_type": "code",
   "execution_count": 1,
   "id": "7d181142710c4f13",
   "metadata": {},
   "outputs": [],
   "source": [
    "import numpy as np"
   ]
  },
  {
   "cell_type": "code",
   "execution_count": null,
   "id": "55731ed2-980b-44e0-a683-2ff8c6e2dd08",
   "metadata": {},
   "outputs": [],
   "source": [
    "A = np.array()"
   ]
  },
  {
   "cell_type": "code",
   "execution_count": 14,
   "id": "91aeb847-b132-41c0-bb62-ca2b7b4e29e8",
   "metadata": {},
   "outputs": [],
   "source": [
    "a1 = 2.0 / 10000"
   ]
  },
  {
   "cell_type": "code",
   "execution_count": 15,
   "id": "426f981c-1a92-4a75-a752-7d0abf7d20d1",
   "metadata": {},
   "outputs": [
    {
     "name": "stdout",
     "output_type": "stream",
     "text": [
      "0.000200000000000000\n"
     ]
    }
   ],
   "source": [
    "print(f'{a1:.18f}')"
   ]
  },
  {
   "cell_type": "code",
   "execution_count": 16,
   "id": "30ca73f5-a1ea-418f-a94c-cd6cd60ba6f0",
   "metadata": {},
   "outputs": [],
   "source": [
    "a2 = (1 + 1 / 10000) - (1 - 1 / 10000)"
   ]
  },
  {
   "cell_type": "code",
   "execution_count": 17,
   "id": "9940d727-1735-46ef-bbd9-212e5c4c24c8",
   "metadata": {},
   "outputs": [
    {
     "name": "stdout",
     "output_type": "stream",
     "text": [
      "0.000199999999999978\n"
     ]
    }
   ],
   "source": [
    "print(f'{a2:.18f}')"
   ]
  },
  {
   "cell_type": "code",
   "execution_count": null,
   "id": "9418d9df-51e3-42d5-955d-54b2ac801966",
   "metadata": {},
   "outputs": [],
   "source": []
  }
 ],
 "metadata": {
  "kernelspec": {
   "display_name": "Python 3 (ipykernel)",
   "language": "python",
   "name": "python3"
  },
  "language_info": {
   "codemirror_mode": {
    "name": "ipython",
    "version": 3
   },
   "file_extension": ".py",
   "mimetype": "text/x-python",
   "name": "python",
   "nbconvert_exporter": "python",
   "pygments_lexer": "ipython3",
   "version": "3.12.3"
  }
 },
 "nbformat": 4,
 "nbformat_minor": 5
}
